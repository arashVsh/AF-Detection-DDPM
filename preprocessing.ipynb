{
  "cells": [
    {
      "cell_type": "code",
      "execution_count": 2,
      "metadata": {
        "colab": {
          "base_uri": "https://localhost:8080/"
        },
        "id": "fW4_GH1tz_id",
        "outputId": "4446ccdc-94a8-46c0-e3fc-c309e1755bbb"
      },
      "outputs": [
        {
          "name": "stdout",
          "output_type": "stream",
          "text": [
            "<module 'tensorflow._api.v2.version' from '/usr/local/lib/python3.8/dist-packages/tensorflow/_api/v2/version/__init__.py'>\n"
          ]
        }
      ],
      "source": [
        "import tensorflow as tf\n",
        "import numpy as np\n",
        "import matplotlib.pyplot as plt\n",
        "from skimage import data\n",
        "import scipy.io as sio\n",
        "from ImageResizer import cropper\n",
        "from Settings import IMAGE_SIZE\n",
        "\n",
        "print(tf.version)"
      ]
    },
    {
      "cell_type": "code",
      "execution_count": 4,
      "metadata": {
        "id": "EyoeWK5Zz_sf"
      },
      "outputs": [],
      "source": [
        "normal = sio.loadmat(\"/content/drive/MyDrive/NormalRPeaks.mat\")\n",
        "af = sio.loadmat(\"/content/drive/MyDrive/AfRPeaks.mat\")"
      ]
    },
    {
      "cell_type": "code",
      "execution_count": null,
      "metadata": {
        "id": "kYO6ySOc8jbi"
      },
      "outputs": [],
      "source": [
        "normalImages = np.empty([normal[\"NormalRPeaks\"].shape[1], 360, 360])\n",
        "afImages = np.empty([af[\"AfRPeaks\"].shape[1], 360, 360])\n",
        "\n",
        "normalImagesCropped = np.empty(\n",
        "    [normal[\"NormalRPeaks\"].shape[1], IMAGE_SIZE, IMAGE_SIZE]\n",
        ")\n",
        "afImagesCropped = np.empty([af[\"AfRPeaks\"].shape[1], IMAGE_SIZE, IMAGE_SIZE])"
      ]
    },
    {
      "cell_type": "code",
      "execution_count": null,
      "metadata": {
        "id": "Pp7mMDln4Cvl"
      },
      "outputs": [],
      "source": [
        "for i in range(0, normal[\"NormalRPeaks\"].shape[1]):\n",
        "    print(\"i\")\n",
        "    print(i)\n",
        "    #  x=np.diff(np.diff(normal['NormalRPeaks'][0][i][0]))\n",
        "    x = np.diff(np.array(normal[\"NormalRPeaks\"][0][i][0], dtype=np.int16), 2)\n",
        "    fig = plt.figure(figsize=(5, 5))\n",
        "    plt.plot(x[0:-2], x[1:-1])\n",
        "    plt.xlim([-500, 500])\n",
        "    plt.ylim([-500, 500])\n",
        "    plt.axis(\"off\")\n",
        "    # plt.show()\n",
        "    fig.canvas.draw()\n",
        "\n",
        "    data = np.frombuffer(fig.canvas.tostring_rgb(), dtype=np.uint8)\n",
        "    image = data.reshape(fig.canvas.get_width_height()[::-1] + (3,))\n",
        "    image = image[:, :, 0] / 256\n",
        "    normalImages[i, :, :] = image"
      ]
    },
    {
      "cell_type": "code",
      "execution_count": null,
      "metadata": {
        "id": "WAQEXnQiKFkg"
      },
      "outputs": [],
      "source": [
        "np.save(\"normalImages.npy\", normalImages)"
      ]
    },
    {
      "cell_type": "code",
      "execution_count": null,
      "metadata": {
        "id": "LOcIcPBh8DkB"
      },
      "outputs": [],
      "source": [
        "for i in range(0, af[\"AfRPeaks\"].shape[1]):\n",
        "    print(\"i\")\n",
        "    print(i)\n",
        "    i_new = i\n",
        "    x = np.diff(np.array(af[\"AfRPeaks\"][0][i_new][0], dtype=np.int16), 2)\n",
        "    fig = plt.figure(figsize=(5, 5))\n",
        "    plt.plot(x[0:-2], x[1:-1])\n",
        "    plt.xlim([-500, 500])\n",
        "    plt.ylim([-500, 500])\n",
        "    plt.axis(\"off\")\n",
        "    fig.canvas.draw()  # draw the canvas, cache the renderer\n",
        "\n",
        "    data = np.frombuffer(fig.canvas.tostring_rgb(), dtype=np.uint8)\n",
        "    image = data.reshape(fig.canvas.get_width_height()[::-1] + (3,))\n",
        "    image = image[:, :, 0] / 256\n",
        "    afImages[i, :, :] = image\n",
        "\n",
        "    print(image.shape)"
      ]
    },
    {
      "cell_type": "code",
      "execution_count": null,
      "metadata": {
        "id": "24CSxnUffa67"
      },
      "outputs": [],
      "source": [
        "np.save(\"afImages.npy\", afImages)"
      ]
    },
    {
      "cell_type": "code",
      "execution_count": null,
      "metadata": {
        "id": "JvTYKkijPH5d"
      },
      "outputs": [],
      "source": [
        "normalImagesCropped = cropper(normalImages, IMAGE_SIZE)\n",
        "np.save(\"normalImagesCropped.npy\", normalImagesCropped)\n",
        "!cp normalImages.npy \"drive/My Drive/\""
      ]
    },
    {
      "cell_type": "code",
      "execution_count": null,
      "metadata": {
        "id": "T-DrC2fTtrhA"
      },
      "outputs": [],
      "source": [
        "afImagesCropped = cropper(afImages, IMAGE_SIZE)\n",
        "np.save(\"afImagesCropped.npy\", afImagesCropped)\n",
        "!cp afImages.npy \"drive/My Drive/\""
      ]
    }
  ],
  "metadata": {
    "accelerator": "GPU",
    "colab": {
      "provenance": []
    },
    "kernelspec": {
      "display_name": "Python 3",
      "name": "python3"
    },
    "language_info": {
      "name": "python"
    }
  },
  "nbformat": 4,
  "nbformat_minor": 0
}
