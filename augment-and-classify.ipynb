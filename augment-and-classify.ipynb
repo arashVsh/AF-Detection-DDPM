{
 "cells": [
  {
   "attachments": {},
   "cell_type": "markdown",
   "metadata": {},
   "source": [
    "## Load Modules"
   ]
  },
  {
   "cell_type": "code",
   "execution_count": null,
   "metadata": {},
   "outputs": [],
   "source": [
    "import tensorflow\n",
    "import numpy as np\n",
    "from sklearn.utils import shuffle\n",
    "from Evaluation import evaluate\n",
    "from Generation import generate\n",
    "from NumpyToImage import numpy_to_image\n",
    "from FID import calculate_fid_score\n",
    "import gc\n",
    "print(tensorflow.__version__)"
   ]
  },
  {
   "attachments": {},
   "cell_type": "markdown",
   "metadata": {},
   "source": [
    "## Load & Shuffle AF Samples"
   ]
  },
  {
   "cell_type": "code",
   "execution_count": null,
   "metadata": {},
   "outputs": [],
   "source": [
    "af_images = shuffle(np.load(\"C:\\\\Projects\\Big-Files\\\\AF.npy\"))\n",
    "print(\"af_images.shape: \", af_images.shape)"
   ]
  },
  {
   "attachments": {},
   "cell_type": "markdown",
   "metadata": {},
   "source": [
    "## Partition AF Samples"
   ]
  },
  {
   "cell_type": "code",
   "execution_count": null,
   "metadata": {},
   "outputs": [],
   "source": [
    "partitionIndex = af_images.shape[0] // 4\n",
    "af_1 = af_images[:partitionIndex, :, :]\n",
    "print(\"af1.shape: \", af_1.shape)\n",
    "af_2 = af_images[partitionIndex : 2 * partitionIndex, :, :]\n",
    "print(\"af2.shape: \", af_2.shape)\n",
    "af_3 = af_images[2 * partitionIndex : 3 * partitionIndex + 1, :, :]\n",
    "print(\"af3.shape: \", af_3.shape)\n",
    "af_4 = af_images[3 * partitionIndex + 1 :, :, :]\n",
    "print(\"af4.shape: \", af_4.shape)\n",
    "\n",
    "af_123 = np.concatenate([af_1, af_2, af_3], axis=0)  # The 1st AF train-set\n",
    "print(\"af_123.shape: \", af_123.shape)\n",
    "af_124 = np.concatenate([af_1, af_2, af_4], axis=0)  # The 2nd AF train-set\n",
    "print(\"af_124.shape: \", af_124.shape)\n",
    "af_134 = np.concatenate([af_1, af_3, af_4], axis=0)  # The 3rd AF train-set\n",
    "print(\"af_134.shape: \", af_134.shape)\n",
    "af_234 = np.concatenate([af_2, af_3, af_4], axis=0)  # The 4th AF train-set\n",
    "print(\"af_234.shape: \", af_234.shape)\n"
   ]
  },
  {
   "attachments": {},
   "cell_type": "markdown",
   "metadata": {},
   "source": [
    "## Augmentation Option"
   ]
  },
  {
   "cell_type": "code",
   "execution_count": null,
   "metadata": {},
   "outputs": [],
   "source": [
    "AUGMENTATION = True\n",
    "print('Using Augmentation' if AUGMENTATION else 'No Augmentation')"
   ]
  },
  {
   "attachments": {},
   "cell_type": "markdown",
   "metadata": {},
   "source": [
    "# Augment Training Folds One by One"
   ]
  },
  {
   "attachments": {},
   "cell_type": "markdown",
   "metadata": {},
   "source": [
    "### Fold 1"
   ]
  },
  {
   "cell_type": "code",
   "execution_count": null,
   "metadata": {},
   "outputs": [],
   "source": [
    "generated_123 = None\n",
    "if AUGMENTATION:\n",
    "    generated_123 = generate(af_123, 'eps_images\\\\1')\n",
    "    print(\"generated_123.shape: \", generated_123.shape)"
   ]
  },
  {
   "attachments": {},
   "cell_type": "markdown",
   "metadata": {},
   "source": [
    "### Fold 2"
   ]
  },
  {
   "cell_type": "code",
   "execution_count": null,
   "metadata": {},
   "outputs": [],
   "source": [
    "generated_124 = None\n",
    "if AUGMENTATION:\n",
    "    generated_124 = generate(af_124, 'eps_images\\\\2')\n",
    "    print(\"generated_124.shape: \", generated_124.shape)"
   ]
  },
  {
   "attachments": {},
   "cell_type": "markdown",
   "metadata": {},
   "source": [
    "### Fold 3"
   ]
  },
  {
   "cell_type": "code",
   "execution_count": null,
   "metadata": {},
   "outputs": [],
   "source": [
    "generated_134 = None\n",
    "if AUGMENTATION:\n",
    "    generated_134 = generate(af_134, 'eps_images\\\\3')\n",
    "    print(\"generated_134.shape: \", generated_134.shape)"
   ]
  },
  {
   "attachments": {},
   "cell_type": "markdown",
   "metadata": {},
   "source": [
    "### Fold 4"
   ]
  },
  {
   "cell_type": "code",
   "execution_count": null,
   "metadata": {},
   "outputs": [],
   "source": [
    "generated_234 = None\n",
    "if AUGMENTATION:\n",
    "    generated_234 = generate(af_234, 'eps_images\\\\4')\n",
    "    print(\"generated_234.shape: \", generated_234.shape)"
   ]
  },
  {
   "attachments": {},
   "cell_type": "markdown",
   "metadata": {},
   "source": [
    "## Load & Shuffle Normal Samples"
   ]
  },
  {
   "cell_type": "code",
   "execution_count": null,
   "metadata": {},
   "outputs": [],
   "source": [
    "normal_images = shuffle(\n",
    "    np.load(\"C:\\\\Projects\\Big-Files\\\\Normal.npy\")\n",
    ")  # Loads 360 x 360 preprocessed images of normal signals\n",
    "print(\"normal_images.shape: \", normal_images.shape)"
   ]
  },
  {
   "attachments": {},
   "cell_type": "markdown",
   "metadata": {},
   "source": [
    "## Partition Normal Samples"
   ]
  },
  {
   "cell_type": "code",
   "execution_count": null,
   "metadata": {},
   "outputs": [],
   "source": [
    "partitionIndex = normal_images.shape[0] // 4\n",
    "normal_1 = normal_images[:partitionIndex, :, :]\n",
    "print(\"normal_1.shape: \", normal_1.shape)\n",
    "normal_2 = normal_images[partitionIndex : 2 * partitionIndex, :, :]\n",
    "print(\"normal_2.shape: \", normal_2.shape)\n",
    "normal_3 = normal_images[2 * partitionIndex : 3 * partitionIndex, :, :]\n",
    "print(\"normal_3.shape: \", normal_3.shape)\n",
    "normal_4 = normal_images[3 * partitionIndex :, :, :]\n",
    "print(\"normal_4.shape: \", normal_4.shape)\n",
    "\n",
    "normal_123 = np.concatenate([normal_1, normal_2, normal_3], axis=0)\n",
    "print(\"normal_123.shape: \", normal_123.shape)\n",
    "normal_124 = np.concatenate([normal_1, normal_2, normal_4], axis=0)\n",
    "print(\"normal_124.shape: \", normal_124.shape)\n",
    "normal_134 = np.concatenate([normal_1, normal_3, normal_4], axis=0)\n",
    "print(\"normal_134.shape: \", normal_134.shape)\n",
    "normal_234 = np.concatenate([normal_2, normal_3, normal_4], axis=0)\n",
    "print(\"normal_234.shape: \", normal_234.shape)"
   ]
  },
  {
   "attachments": {},
   "cell_type": "markdown",
   "metadata": {},
   "source": [
    "## Evaluate for All 4 Folds"
   ]
  },
  {
   "attachments": {},
   "cell_type": "markdown",
   "metadata": {},
   "source": [
    "### Fold 1"
   ]
  },
  {
   "cell_type": "code",
   "execution_count": null,
   "metadata": {},
   "outputs": [],
   "source": [
    "evaluate(\n",
    "    train_normal=normal_123,\n",
    "    train_af=af_123,\n",
    "    val_normal=normal_4,\n",
    "    val_af=af_4,\n",
    "    generated_af=generated_123,\n",
    "    showModelSummary=False,\n",
    "    checkpoint_filepath=\"./checkpoints/my_checkpoint/best_4\",\n",
    ")"
   ]
  },
  {
   "attachments": {},
   "cell_type": "markdown",
   "metadata": {},
   "source": [
    "### Fold 2"
   ]
  },
  {
   "cell_type": "code",
   "execution_count": null,
   "metadata": {},
   "outputs": [],
   "source": [
    "evaluate(\n",
    "    train_normal=normal_124,\n",
    "    train_af=af_124,\n",
    "    val_normal=normal_3,\n",
    "    val_af=af_3,\n",
    "    generated_af=generated_124,\n",
    "    showModelSummary=False,\n",
    "    checkpoint_filepath=\"./checkpoints/my_checkpoint/best_3\",\n",
    ")"
   ]
  },
  {
   "attachments": {},
   "cell_type": "markdown",
   "metadata": {},
   "source": [
    "### Fold 3"
   ]
  },
  {
   "cell_type": "code",
   "execution_count": null,
   "metadata": {},
   "outputs": [],
   "source": [
    "evaluate(\n",
    "    train_normal=normal_134,\n",
    "    train_af=af_134,\n",
    "    val_normal=normal_2,\n",
    "    val_af=af_2,\n",
    "    generated_af=generated_134,\n",
    "    showModelSummary=False,\n",
    "    checkpoint_filepath=\"./checkpoints/my_checkpoint/best_2\",\n",
    ")"
   ]
  },
  {
   "attachments": {},
   "cell_type": "markdown",
   "metadata": {},
   "source": [
    "### Fold 4"
   ]
  },
  {
   "cell_type": "code",
   "execution_count": null,
   "metadata": {},
   "outputs": [],
   "source": [
    "evaluate(\n",
    "    train_normal=normal_234,\n",
    "    train_af=af_234,\n",
    "    val_normal=normal_1,\n",
    "    val_af=af_1,\n",
    "    generated_af=generated_234,\n",
    "    showModelSummary=False,\n",
    "    checkpoint_filepath=\"./checkpoints/my_checkpoint/best_1\",\n",
    ")"
   ]
  },
  {
   "attachments": {},
   "cell_type": "markdown",
   "metadata": {},
   "source": [
    "## Concatenate Generated AF Images"
   ]
  },
  {
   "cell_type": "code",
   "execution_count": null,
   "metadata": {},
   "outputs": [],
   "source": [
    "generatedImages = np.concatenate([generated_123, generated_124, generated_134, generated_234], axis=0)\n",
    "del generated_123, generated_124, generated_134, generated_234\n",
    "gc.collect()\n",
    "\n",
    "num_generated_images = generatedImages.shape[0]\n",
    "num_images_to_select = af_images.shape[0]\n",
    "# Generate random indices to select as many images as original images (necessary)\n",
    "\n",
    "np.random.seed(42) # Optional\n",
    "random_indices = np.random.choice(num_generated_images, size=num_images_to_select, replace=False)\n",
    "# Select the images using the random indices\n",
    "generatedImages = generatedImages[random_indices]\n",
    "print('generatedImages.shape: ', generatedImages.shape)"
   ]
  },
  {
   "attachments": {},
   "cell_type": "markdown",
   "metadata": {},
   "source": [
    "## FID Score"
   ]
  },
  {
   "cell_type": "code",
   "execution_count": null,
   "metadata": {},
   "outputs": [],
   "source": [
    "\n",
    "# Save original and generated AF images in separated folders\n",
    "original_images_folder = 'C:\\\\Projects\\\\Big-Files\\\\af_original_images'\n",
    "numpy_to_image(images=af_images, path=original_images_folder, format='png')\n",
    "generated_images_folder = 'C:\\\\Projects\\\\Big-Files\\\\af_generated_images'\n",
    "numpy_to_image(images=generatedImages, path=generated_images_folder, format='png')\n",
    "# Calculate FID Score between the two datasets\n",
    "calculate_fid_score(path1=original_images_folder, path2=generated_images_folder, batch_size=128)"
   ]
  }
 ],
 "metadata": {
  "kernelspec": {
   "display_name": "Python 3",
   "language": "python",
   "name": "python3"
  },
  "language_info": {
   "codemirror_mode": {
    "name": "ipython",
    "version": 3
   },
   "file_extension": ".py",
   "mimetype": "text/x-python",
   "name": "python",
   "nbconvert_exporter": "python",
   "pygments_lexer": "ipython3",
   "version": "3.11.3"
  },
  "orig_nbformat": 4
 },
 "nbformat": 4,
 "nbformat_minor": 2
}
